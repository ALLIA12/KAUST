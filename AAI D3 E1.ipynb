{
 "nbformat": 4,
 "nbformat_minor": 0,
 "metadata": {
  "colab": {
   "provenance": []
  },
  "kernelspec": {
   "name": "python3",
   "display_name": "Python 3"
  },
  "language_info": {
   "name": "python"
  },
  "accelerator": "GPU"
 },
 "cells": [
  {
   "cell_type": "markdown",
   "source": [
    "Expectations: Please provide solutions to the questions in the cells at the end of the notebook."
   ],
   "metadata": {
    "id": "_-O8HVTpkbZm"
   }
  },
  {
   "cell_type": "code",
   "execution_count": 24,
   "outputs": [],
   "source": [
    "import torch\n",
    "import torch.nn as nn\n",
    "import torch.nn.functional as F\n",
    "import torch.optim as optim\n",
    "import numpy as np\n",
    "import matplotlib.pyplot as plt\n",
    "from torchvision import models, transforms\n",
    "from torchvision.utils import make_grid\n",
    "from torchvision.datasets import MNIST\n",
    "from torch.utils.data.sampler import SubsetRandomSampler\n",
    "from torch.utils.tensorboard import SummaryWriter\n",
    "from torchsummary import summary\n",
    "from torch.optim.lr_scheduler import ExponentialLR"
   ],
   "metadata": {
    "collapsed": false
   }
  },
  {
   "cell_type": "code",
   "execution_count": 25,
   "outputs": [],
   "source": [
    "# MNIST\n",
    "def mnist(batch_sz, valid_size=0.2, shuffle=True, random_seed=2000):\n",
    "    num_classes = 10\n",
    "    transform_train = transforms.Compose([\n",
    "        transforms.ToTensor(),\n",
    "    ])\n",
    "\n",
    "    transform_valid = transforms.Compose([\n",
    "        transforms.ToTensor(),\n",
    "    ])\n",
    "\n",
    "    transform_test = transforms.Compose([\n",
    "        transforms.ToTensor(),\n",
    "    ])\n",
    "\n",
    "    # Training dataset\n",
    "    train_data = MNIST(root='./datasets', train=True, download=True, transform=transform_train)\n",
    "    valid_data = MNIST(root='./datasets', train=True, download=True, transform=transform_valid)\n",
    "    num_train = len(train_data)\n",
    "    indices = list(range(num_train))\n",
    "    split = int(np.floor(valid_size * num_train))\n",
    "    if shuffle == True:\n",
    "        np.random.seed(random_seed)\n",
    "        np.random.shuffle(indices)\n",
    "    train_idx, valid_idx = indices[split:], indices[:split]\n",
    "\n",
    "    train_sampler = SubsetRandomSampler(train_idx)\n",
    "    valid_sampler = SubsetRandomSampler(valid_idx)\n",
    "    train_loader = torch.utils.data.DataLoader(train_data, batch_size=batch_sz, sampler=train_sampler, pin_memory=True)\n",
    "    valid_loader = torch.utils.data.DataLoader(valid_data, batch_size=batch_sz, sampler=valid_sampler, pin_memory=True)\n",
    "\n",
    "    # Test dataset\n",
    "    test_data = MNIST(root='./datasets', train=False, download=True, transform=transform_test)\n",
    "    test_loader = torch.utils.data.DataLoader(test_data,\n",
    "                                              batch_size=batch_sz, shuffle=False, pin_memory=True)\n",
    "\n",
    "    return train_loader, valid_loader, test_loader\n",
    "\n"
   ],
   "metadata": {
    "collapsed": false
   }
  },
  {
   "cell_type": "code",
   "execution_count": 26,
   "outputs": [],
   "source": [
    "batch_sz = 64  # this is batch size i.e. the number of rows in a batch of data\n",
    "train_loader, valid_loader, test_loader = mnist(batch_sz)"
   ],
   "metadata": {
    "collapsed": false
   }
  },
  {
   "cell_type": "code",
   "execution_count": 27,
   "outputs": [],
   "source": [
    "class AE(nn.Module):\n",
    "    def __init__(self, nz):\n",
    "        super().__init__()\n",
    "        self.nz = nz\n",
    "        self.elayer1 = nn.Linear(784, 500)\n",
    "        self.ebn1 = nn.BatchNorm1d(500)\n",
    "        self.elayer2 = nn.Linear(500, 200)\n",
    "        self.ebn2 = nn.BatchNorm1d(200)\n",
    "        self.elayer3 = nn.Linear(200, self.nz)\n",
    "\n",
    "        self.dlayer1 = nn.Linear(self.nz, 200)\n",
    "        self.dbn1 = nn.BatchNorm1d(200)\n",
    "        self.dlayer2 = nn.Linear(200, 400)\n",
    "        self.dbn2 = nn.BatchNorm1d(400)\n",
    "        self.dlayer3 = nn.Linear(400, 784)\n",
    "\n",
    "    def encoder(self, x):\n",
    "        x = self.elayer1(x)\n",
    "        x = torch.relu(x)\n",
    "        x = self.ebn1(x)\n",
    "\n",
    "        x = self.elayer2(x)\n",
    "        x = torch.relu(x)\n",
    "        x = self.ebn2(x)\n",
    "\n",
    "        x = self.elayer3(x)\n",
    "        x = torch.sigmoid(x)\n",
    "\n",
    "        return x\n",
    "\n",
    "    def decoder(self, x):\n",
    "        x = self.dlayer1(x)\n",
    "        x = torch.relu(x)\n",
    "        x = self.dbn1(x)\n",
    "\n",
    "        x = self.dlayer2(x)\n",
    "        x = torch.relu(x)\n",
    "        x = self.dbn2(x)\n",
    "\n",
    "        x = self.dlayer3(x)\n",
    "        x = torch.sigmoid(x)\n",
    "\n",
    "        return x\n",
    "\n",
    "    def forward(self, x):\n",
    "        z = self.encoder(x)\n",
    "        x = self.decoder(z)\n",
    "\n",
    "        return z, x"
   ],
   "metadata": {
    "collapsed": false
   }
  },
  {
   "cell_type": "code",
   "execution_count": 28,
   "outputs": [
    {
     "name": "stdout",
     "output_type": "stream",
     "text": [
      "Adjusting learning rate of group 0 to 1.0000e-04.\n",
      "Adjusting learning rate of group 0 to 9.0000e-05.\n",
      "Adjusting learning rate of group 0 to 8.1000e-05.\n",
      "Adjusting learning rate of group 0 to 7.2900e-05.\n",
      "Adjusting learning rate of group 0 to 6.5610e-05.\n",
      "Adjusting learning rate of group 0 to 5.9049e-05.\n",
      "Adjusting learning rate of group 0 to 5.3144e-05.\n",
      "Adjusting learning rate of group 0 to 4.7830e-05.\n",
      "Adjusting learning rate of group 0 to 4.3047e-05.\n",
      "Adjusting learning rate of group 0 to 3.8742e-05.\n",
      "Adjusting learning rate of group 0 to 3.4868e-05.\n"
     ]
    },
    {
     "data": {
      "text/plain": "[<matplotlib.lines.Line2D at 0x1e9b1ec23b0>]"
     },
     "execution_count": 28,
     "metadata": {},
     "output_type": "execute_result"
    },
    {
     "data": {
      "text/plain": "<Figure size 640x480 with 1 Axes>",
      "image/png": "[encoded data removed]"
     },
     "metadata": {},
     "output_type": "display_data"
    }
   ],
   "source": [
    "device = torch.device('cuda:0')\n",
    "net = AE(10).to(device)\n",
    "num_epochs = 10\n",
    "lr = 1e-4\n",
    "opt = optim.Adam(net.parameters(), lr=lr)\n",
    "sch = ExponentialLR(opt, 0.9, verbose = True)\n",
    "\n",
    "ls = []\n",
    "for i in range(num_epochs):\n",
    "    total_loss = 0\n",
    "    for batch in train_loader:\n",
    "        X = batch[0].to(device)\n",
    "        X = X.view(-1, 784)\n",
    "        Z, Xhat = net(X)\n",
    "        loss = F.mse_loss(Xhat, X)\n",
    "        total_loss += loss.item()\n",
    "        opt.zero_grad()\n",
    "        loss.backward()\n",
    "        opt.step()\n",
    "    sch.step()\n",
    "\n",
    "    ls.append(total_loss)\n",
    "\n",
    "plt.plot(ls)"
   ],
   "metadata": {
    "collapsed": false
   }
  },
  {
   "cell_type": "code",
   "execution_count": 29,
   "outputs": [],
   "source": [
    "X = X.detach().cpu()\n",
    "Xhat = Xhat.detach().cpu()"
   ],
   "metadata": {
    "collapsed": false
   }
  },
  {
   "cell_type": "code",
   "execution_count": 30,
   "outputs": [
    {
     "data": {
      "text/plain": "<matplotlib.image.AxesImage at 0x1e9b1890c10>"
     },
     "execution_count": 30,
     "metadata": {},
     "output_type": "execute_result"
    },
    {
     "data": {
      "text/plain": "<Figure size 640x480 with 2 Axes>",
      "image/png": "[encoded data removed]"
     },
     "metadata": {},
     "output_type": "display_data"
    }
   ],
   "source": [
    "plt.subplot(121)\n",
    "plt.imshow(X[1, :].reshape(28, 28))\n",
    "plt.subplot(122)\n",
    "plt.imshow(Xhat[1, :].reshape(28, 28))"
   ],
   "metadata": {
    "collapsed": false
   }
  },
  {
   "cell_type": "code",
   "execution_count": 31,
   "outputs": [
    {
     "data": {
      "text/plain": "<Figure size 640x480 with 20 Axes>",
      "image/png": "[encoded data removed]"
     },
     "metadata": {},
     "output_type": "display_data"
    }
   ],
   "source": [
    "for i in range(10):\n",
    "    plt.subplot(2, 10, i + 1)\n",
    "    plt.imshow(X[i, :].reshape(28, 28), cmap='gray_r')\n",
    "    plt.axis('off')\n",
    "\n",
    "    plt.subplot(2, 10, 10 + i + 1)\n",
    "    plt.imshow(Xhat[i, :].reshape(28, 28), cmap='gray_r')\n",
    "    plt.axis('off')\n",
    "\n",
    "plt.show()"
   ],
   "metadata": {
    "collapsed": false
   }
  },
  {
   "cell_type": "code",
   "source": [
    "total_loss = 0.0\n",
    "\n",
    "# Calculate total loss for train loader\n",
    "for batch in test_loader:\n",
    "    X = batch[0].to(device)\n",
    "    X = X.view(-1, 784)\n",
    "    Z, Xhat = net(X)\n",
    "    loss = F.mse_loss(Xhat, X)\n",
    "    total_loss += loss.item()\n",
    "\n",
    "# Print total loss for train loader\n",
    "print(\"Total loss for test loader:\", total_loss)\n",
    "\n"
   ],
   "metadata": {
    "id": "ilDfF9auIVtg"
   },
   "execution_count": 32,
   "outputs": [
    {
     "name": "stdout",
     "output_type": "stream",
     "text": [
      "Total loss for test loader: 3.995493210852146\n"
     ]
    }
   ]
  },
  {
   "cell_type": "code",
   "execution_count": null,
   "outputs": [],
   "source": [
    "X = X.detach().cpu()\n",
    "Xhat = Xhat.detach().cpu()"
   ],
   "metadata": {
    "collapsed": false
   }
  },
  {
   "cell_type": "code",
   "execution_count": null,
   "outputs": [],
   "source": [
    "# Display 10 images from the test set\n",
    "for i in range(10):\n",
    "    plt.subplot(2, 10, i + 1)\n",
    "    plt.imshow(X[i, :].reshape(28, 28), cmap='gray_r')\n",
    "    plt.axis('off')\n",
    "\n",
    "    plt.subplot(2, 10, 10 + i + 1)\n",
    "    plt.imshow(Xhat[i, :].reshape(28, 28), cmap='gray_r')\n",
    "    plt.axis('off')\n",
    "\n",
    "plt.show()\n"
   ],
   "metadata": {
    "collapsed": false
   }
  },
  {
   "cell_type": "markdown",
   "source": [
    "# The rest is for the Encoder/decoder using CNNS"
   ],
   "metadata": {
    "collapsed": false
   }
  },
  {
   "cell_type": "code",
   "execution_count": null,
   "outputs": [],
   "source": [
    "batch_sz = 64  # this is batch size i.e. the number of rows in a batch of data\n",
    "train_loader, valid_loader, test_loader = mnist(batch_sz)"
   ],
   "metadata": {
    "collapsed": false
   }
  },
  {
   "cell_type": "code",
   "execution_count": null,
   "outputs": [],
   "source": [
    "class AEUsingConv(nn.Module):\n",
    "    def __init__(self, ndims):\n",
    "        super().__init__()\n",
    "        self.ndims = ndims\n",
    "        self.econv1 = nn.Conv2d(1, 16, 3, 1, 1)\n",
    "        self.ebn1 = nn.BatchNorm2d(16)\n",
    "        self.econv2 = nn.Conv2d(16, 32, 3, 2, 1)\n",
    "        self.ebn2 = nn.BatchNorm2d(32)\n",
    "        self.econv3 = nn.Conv2d(32, 64, 3, 2, 1)\n",
    "        self.ebn3 = nn.BatchNorm2d(64)\n",
    "        self.elinear1 = nn.Linear(64 * 7 * 7, 100)\n",
    "        self.ebn4 = nn.BatchNorm1d(100)\n",
    "        self.elinear2 = nn.Linear(100, self.ndims)\n",
    "\n",
    "        self.dlinear1 = nn.Linear(self.ndims, 100)\n",
    "        self.dbn1 = nn.BatchNorm1d(100)\n",
    "        self.dlinear2 = nn.Linear(100, 64 * 7 * 7)\n",
    "        self.dbn2 = nn.BatchNorm1d(64 * 7 * 7)\n",
    "        self.dconv1 = nn.ConvTranspose2d(64, 32, 3, 1, 1)\n",
    "        self.dbn3 = nn.BatchNorm2d(32)\n",
    "        self.dconv2 = nn.ConvTranspose2d(32, 16, 3, 2, 1, output_padding=1)\n",
    "        self.dbn4 = nn.BatchNorm2d(16)\n",
    "        self.dconv3 = nn.ConvTranspose2d(16, 1, 3, 2, 1, output_padding=1)\n",
    "\n",
    "    def encoder(self, x):\n",
    "        x = torch.relu(self.econv1(x))\n",
    "        x = self.ebn1(x)\n",
    "\n",
    "        x = torch.relu(self.econv2(x))\n",
    "        x = self.ebn2(x)\n",
    "\n",
    "        x = torch.relu(self.econv3(x))\n",
    "        x = self.ebn3(x)\n",
    "\n",
    "        x = x.view(-1, 64 * 7 * 7)\n",
    "\n",
    "        x = torch.relu(self.elinear1(x))\n",
    "        x = self.ebn4(x)\n",
    "\n",
    "        x = torch.sigmoid(self.elinear2(x))\n",
    "        return x\n",
    "\n",
    "    def decoder(self, x):\n",
    "        x = torch.relu(self.dlinear1(x))\n",
    "        x = self.dbn1(x)\n",
    "\n",
    "        x = torch.relu(self.dlinear2(x))\n",
    "        x = self.dbn2(x)\n",
    "        x = x.view(-1, 64, 7, 7)\n",
    "        x = torch.relu(self.dconv1(x))\n",
    "        x = self.dbn3(x)\n",
    "\n",
    "        x = torch.relu(self.dconv2(x))\n",
    "        x = self.dbn4(x)\n",
    "        x = torch.sigmoid(self.dconv3(x))\n",
    "        return x\n",
    "\n",
    "    def forward(self, x):\n",
    "        z = self.encoder(x)\n",
    "        x = self.decoder(z)\n",
    "        return z, x"
   ],
   "metadata": {
    "collapsed": false
   }
  },
  {
   "cell_type": "code",
   "execution_count": null,
   "outputs": [],
   "source": [
    "\n",
    "device = torch.device('cuda')\n",
    "netConv = AEUsingConv(10).to(device)\n",
    "num_epochs = 10\n",
    "lr = 1e-4\n",
    "opt = optim.Adam(netConv.parameters(), lr=lr)\n",
    "\n",
    "ls = []\n",
    "for i in range(num_epochs):\n",
    "    total_loss = 0\n",
    "    for batch in train_loader:\n",
    "        X = batch[0].to(device)\n",
    "        Z, Xhat = netConv(X)\n",
    "        loss = F.mse_loss(Xhat, X)\n",
    "        total_loss += loss.item()\n",
    "        opt.zero_grad()\n",
    "        loss.backward()\n",
    "        opt.step()\n",
    "    print(f\"current loss {total_loss} for epoch {i}\")\n",
    "    ls.append(total_loss)\n",
    "\n",
    "plt.plot(ls)"
   ],
   "metadata": {
    "collapsed": false
   }
  },
  {
   "cell_type": "code",
   "execution_count": null,
   "outputs": [],
   "source": [
    "X = X.detach().cpu()\n",
    "Xhat = Xhat.detach().cpu()"
   ],
   "metadata": {
    "collapsed": false
   }
  },
  {
   "cell_type": "code",
   "execution_count": null,
   "outputs": [],
   "source": [
    "plt.subplot(121)\n",
    "plt.imshow(X[1, :].reshape(28, 28))\n",
    "plt.subplot(122)\n",
    "plt.imshow(Xhat[1, :].reshape(28, 28))"
   ],
   "metadata": {
    "collapsed": false
   }
  },
  {
   "cell_type": "code",
   "execution_count": null,
   "outputs": [],
   "source": [
    "for i in range(10):\n",
    "    plt.subplot(2, 10, i + 1)\n",
    "    plt.imshow(X[i, :].reshape(28, 28), cmap='gray_r')\n",
    "    plt.axis('off')\n",
    "\n",
    "    plt.subplot(2, 10, 10 + i + 1)\n",
    "    plt.imshow(Xhat[i, :].reshape(28, 28), cmap='gray_r')\n",
    "    plt.axis('off')\n",
    "\n",
    "plt.show()"
   ],
   "metadata": {
    "collapsed": false
   }
  },
  {
   "cell_type": "code",
   "execution_count": null,
   "outputs": [],
   "source": [
    "total_loss = 0.0\n",
    "\n",
    "# Calculate total loss for train loader\n",
    "for batch in test_loader:\n",
    "    X = batch[0].to(device)\n",
    "    Z, Xhat = netConv(X)\n",
    "    loss = F.mse_loss(Xhat, X)\n",
    "    total_loss += loss.item()\n",
    "\n",
    "# Print total loss for train loader\n",
    "print(\"Total loss for test loader:\", total_loss)\n",
    "\n"
   ],
   "metadata": {
    "collapsed": false
   }
  },
  {
   "cell_type": "code",
   "execution_count": null,
   "outputs": [],
   "source": [
    "X = X.detach().cpu()\n",
    "Xhat = Xhat.detach().cpu()"
   ],
   "metadata": {
    "collapsed": false
   }
  },
  {
   "cell_type": "code",
   "execution_count": null,
   "outputs": [],
   "source": [
    "# Display 10 images from the test set\n",
    "for i in range(10):\n",
    "    plt.subplot(2, 10, i + 1)\n",
    "    plt.imshow(X[i, :].reshape(28, 28), cmap='gray_r')\n",
    "    plt.axis('off')\n",
    "\n",
    "    plt.subplot(2, 10, 10 + i + 1)\n",
    "    plt.imshow(Xhat[i, :].reshape(28, 28), cmap='gray_r')\n",
    "    plt.axis('off')\n",
    "\n",
    "plt.show()\n"
   ],
   "metadata": {
    "collapsed": false
   }
  },
  {
   "cell_type": "code",
   "execution_count": null,
   "outputs": [],
   "source": [],
   "metadata": {
    "collapsed": false
   }
  },
  {
   "cell_type": "markdown",
   "source": [
    "# Some fucked up shit, i don't get half of it\n"
   ],
   "metadata": {
    "collapsed": false
   }
  },
  {
   "cell_type": "code",
   "execution_count": null,
   "outputs": [],
   "source": [
    "class AEUsingConvAndSomeOtherShit(nn.Module):\n",
    "    def __init__(self, ndims):\n",
    "        super().__init__()\n",
    "        self.ndims = ndims\n",
    "        self.econv1 = nn.Conv2d(1, 16, 3, 1, 1)\n",
    "        self.ebn1 = nn.BatchNorm2d(16)\n",
    "        self.econv2 = nn.Conv2d(16, 32, 3, 2, 1)\n",
    "        self.ebn2 = nn.BatchNorm2d(32)\n",
    "        self.econv3 = nn.Conv2d(32, 64, 3, 2, 1)\n",
    "        self.ebn3 = nn.BatchNorm2d(64)\n",
    "        self.elinear1 = nn.Linear(64 * 7 * 7, 100)\n",
    "        self.ebn4 = nn.BatchNorm1d(100)\n",
    "        self.elinear2 = nn.Linear(100, self.ndims)\n",
    "\n",
    "        self.dlinear1 = nn.Linear(self.ndims, 100)\n",
    "        self.dbn1 = nn.BatchNorm1d(100)\n",
    "        self.dlinear2 = nn.Linear(100, 64 * 7 * 7)\n",
    "        self.dbn2 = nn.BatchNorm1d(64 * 7 * 7)\n",
    "        self.dconv1 = nn.ConvTranspose2d(64, 32, 3, 1, 1)\n",
    "        self.dbn3 = nn.BatchNorm2d(32)\n",
    "        self.dconv2 = nn.ConvTranspose2d(32, 16, 3, 2, 1, output_padding=1)\n",
    "        self.dbn4 = nn.BatchNorm2d(16)\n",
    "        self.dconv3 = nn.ConvTranspose2d(16, 1, 3, 2, 1, output_padding=1)\n",
    "\n",
    "        self.plinear1 = nn.Linear(self.ndims, self.ndims)\n",
    "        self.plinear2 = nn.Linear(self.ndims, self.ndims)\n",
    "\n",
    "    def encoderHead(self, x):\n",
    "        x = torch.relu(self.econv1(x))\n",
    "        x = self.ebn1(x)\n",
    "\n",
    "        x = torch.relu(self.econv2(x))\n",
    "        x = self.ebn2(x)\n",
    "\n",
    "        x = torch.relu(self.econv3(x))\n",
    "        x = self.ebn3(x)\n",
    "\n",
    "        x = x.view(-1, 64 * 7 * 7)\n",
    "\n",
    "        x = torch.relu(self.elinear1(x))\n",
    "        x = self.ebn4(x)\n",
    "\n",
    "        x = torch.sigmoid(self.elinear2(x))\n",
    "        return x\n",
    "\n",
    "    def get_params(self, x):\n",
    "        mu = self.plinear1(x)\n",
    "        logvar = self.plinear2(x)\n",
    "        return mu, logvar\n",
    "\n",
    "    def encoder(self, x):\n",
    "        x = self.encoderHead(x)\n",
    "        mu, logvar = self.get_params(x)\n",
    "        z = torch.exp(logvar * 0.5) * torch.randn_like(logvar) + mu\n",
    "        return z, mu, logvar\n",
    "\n",
    "    def decoder(self, x):\n",
    "        x = torch.relu(self.dlinear1(x))\n",
    "        x = self.dbn1(x)\n",
    "\n",
    "        x = torch.relu(self.dlinear2(x))\n",
    "        x = self.dbn2(x)\n",
    "        x = x.view(-1, 64, 7, 7)\n",
    "        x = torch.relu(self.dconv1(x))\n",
    "        x = self.dbn3(x)\n",
    "\n",
    "        x = torch.relu(self.dconv2(x))\n",
    "        x = self.dbn4(x)\n",
    "        x = torch.sigmoid(self.dconv3(x))\n",
    "        return x\n",
    "\n",
    "    def forward(self, x):\n",
    "        z, mu, logvar = self.encoder(x)\n",
    "        x = self.decoder(z)\n",
    "        return z, x, mu, logvar"
   ],
   "metadata": {
    "collapsed": false
   }
  },
  {
   "cell_type": "code",
   "execution_count": null,
   "outputs": [],
   "source": [
    "def get_loss(x, xhat, mu, logvar):\n",
    "    m = 1e-4\n",
    "    recon_loss = F.mse_loss(x, xhat)\n",
    "    kld_loss = torch.mean(torch.sum(-0.5 * (1 + logvar - torch.exp(logvar) - mu ** 2), dim=1), dim=0)\n",
    "    loss = m * kld_loss + (1 - m) * recon_loss\n",
    "    return loss"
   ],
   "metadata": {
    "collapsed": false
   }
  },
  {
   "cell_type": "code",
   "execution_count": null,
   "outputs": [],
   "source": [
    "\n",
    "device = torch.device('cuda')\n",
    "netConvStableShit = AEUsingConvAndSomeOtherShit(20).to(device)\n",
    "num_epochs = 25\n",
    "lr = 1e-4\n",
    "opt = optim.Adam(netConvStableShit.parameters(), lr=lr)\n",
    "\n",
    "ls = []\n",
    "for i in range(num_epochs):\n",
    "    total_loss = 0\n",
    "    for batch in train_loader:\n",
    "        X = batch[0].to(device)\n",
    "        Z, Xhat, mu, logvar = netConvStableShit(X)\n",
    "        loss = get_loss(Xhat, X, mu, logvar)\n",
    "        total_loss += loss.item()\n",
    "        opt.zero_grad()\n",
    "        loss.backward()\n",
    "        opt.step()\n",
    "    print(f\"current loss {total_loss} for epoch {i}\")\n",
    "    ls.append(total_loss)\n",
    "\n",
    "plt.plot(ls)"
   ],
   "metadata": {
    "collapsed": false
   }
  },
  {
   "cell_type": "code",
   "execution_count": null,
   "outputs": [],
   "source": [
    "num_samples = 64\n",
    "z = torch.randn((num_samples, 20)).to(device)\n",
    "with torch.no_grad():\n",
    "    Xhat = netConvStableShit.decoder(z)"
   ],
   "metadata": {
    "collapsed": false
   }
  },
  {
   "cell_type": "code",
   "execution_count": null,
   "outputs": [],
   "source": [
    "for i in range(64):\n",
    "    plt.subplot(8, 8, i + 1)\n",
    "    plt.imshow(Xhat.cpu()[i, 0, :, :], cmap='gray')"
   ],
   "metadata": {
    "collapsed": false
   }
  },
  {
   "cell_type": "code",
   "execution_count": null,
   "outputs": [],
   "source": [],
   "metadata": {
    "collapsed": false
   }
  }
 ]
}
