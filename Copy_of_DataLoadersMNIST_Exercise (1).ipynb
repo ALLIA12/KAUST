{
 "nbformat": 4,
 "nbformat_minor": 0,
 "metadata": {
  "colab": {
   "provenance": []
  },
  "kernelspec": {
   "name": "python3",
   "display_name": "Python 3"
  },
  "language_info": {
   "name": "python"
  },
  "accelerator": "GPU",
  "gpuClass": "standard"
 },
 "cells": [
  {
   "cell_type": "markdown",
   "source": [
    "In this notebook, we will use the pytorch dataloader to load a custom dataset (MNIST Digits dataset in this case) from file."
   ],
   "metadata": {
    "id": "cN1JpfuVYEJq"
   }
  },
  {
   "cell_type": "code",
   "source": [
    "import numpy as np\n",
    "import torch\n",
    "import matplotlib.pyplot as plt\n",
    "from torch.utils.data import Dataset, DataLoader\n",
    "\n",
    "class CustomDataset(Dataset):\n",
    "    def __init__(self, csv_file):\n",
    "        self.data = np.genfromtxt(csv_file, delimiter=',')\n",
    "        self.labels = self.data[:, 0]  # Extract labels from the first column\n",
    "        self.features = self.data[:, 1:]  # Extract features from remaining columns\n",
    "        print(self.data.shape)\n",
    "\n",
    "    def __len__(self):\n",
    "        return len(self.labels)\n",
    "\n",
    "    def __getitem__(self, index):\n",
    "        label = self.labels[index]\n",
    "        features = self.features[index]\n",
    "\n",
    "        # Convert label and features to torch tensors if needed\n",
    "        label = torch.tensor(label)\n",
    "        features = torch.tensor(features)\n",
    "\n",
    "        return features, label\n",
    "\n",
    "\n",
    "# Create an instance of the CustomDataset\n",
    "dataset = CustomDataset('mnist_train.csv')\n",
    "\n",
    "# Create a DataLoader with batch size 64\n",
    "dataloader = DataLoader(dataset, batch_size=64, shuffle=True)\n",
    "\n",
    "\n"
   ],
   "metadata": {
    "id": "2NBMcv50y-HY"
   },
   "execution_count": null,
   "outputs": []
  },
  {
   "cell_type": "code",
   "source": [
    "# Get the first batch from the dataloader\n",
    "batch = next(iter(dataloader))\n",
    "\n",
    "# Extract features and labels from the batch\n",
    "features_batch, labels_batch = batch\n",
    "\n",
    "# Plot the 50th image in the first batch\n",
    "plt.imshow(features_batch[40].numpy().reshape(28, 28), cmap='gray')\n",
    "plt.title(f\"Label: {labels_batch[40].item()}\")\n",
    "plt.axis('off')\n",
    "plt.show()"
   ],
   "metadata": {
    "id": "AI_QUuOYTtKC"
   },
   "execution_count": null,
   "outputs": []
  }
 ]
}
